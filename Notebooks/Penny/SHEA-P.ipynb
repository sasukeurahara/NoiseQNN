{
 "cells": [
  {
   "cell_type": "code",
   "execution_count": 2,
   "id": "b49b34a2",
   "metadata": {},
   "outputs": [],
   "source": [
    "import pennylane as qml\n",
    "from pennylane import numpy as np\n",
    "import torch\n",
    "from sklearn import datasets\n",
    "from sklearn.model_selection import train_test_split\n",
    "from sklearn.preprocessing import StandardScaler\n",
    "from sklearn.metrics import mean_squared_error, mean_absolute_error, f1_score\n",
    "import time"
   ]
  },
  {
   "cell_type": "code",
   "execution_count": null,
   "id": "e295fab8",
   "metadata": {},
   "outputs": [],
   "source": [
    "n_qubits = 2\n",
    "noise_prob = 0.3   # Change this to set noise probability (0.0 = noiseless)\n",
    "noise_type = \"AmplitudeDamping\"  # Options: \"Depolarizing\", \"AmplitudeDamping\", \"PhaseDamping\", \"BitFlip\", \"PhaseFlip\""
   ]
  },
  {
   "cell_type": "code",
   "execution_count": 4,
   "id": "9ee83eeb",
   "metadata": {},
   "outputs": [],
   "source": [
    "iris = datasets.load_iris()\n",
    "X = iris.data\n",
    "y = iris.target\n",
    "\n",
    "# Binary classification (Setosa vs Versicolor)\n",
    "mask = y < 2\n",
    "X = X[mask]\n",
    "y = y[mask]\n",
    "\n",
    "# Standardize\n",
    "scaler = StandardScaler()\n",
    "X = scaler.fit_transform(X)\n",
    "\n",
    "# Use only first 2 features\n",
    "X = X[:, :2]\n",
    "y = y.astype(float)\n",
    "\n",
    "# Train-test split\n",
    "X_train, X_test, y_train, y_test = train_test_split(\n",
    "    X, y, test_size=0.2, random_state=42\n",
    ")\n",
    "\n",
    "# Torch tensors in float64 (PennyLane default)\n",
    "X_train = torch.tensor(X_train, dtype=torch.float64)\n",
    "y_train = torch.tensor(y_train, dtype=torch.float64)\n",
    "X_test = torch.tensor(X_test, dtype=torch.float64)\n",
    "y_test = torch.tensor(y_test, dtype=torch.float64)"
   ]
  },
  {
   "cell_type": "code",
   "execution_count": 5,
   "id": "97cd95ab",
   "metadata": {},
   "outputs": [],
   "source": [
    "dev = qml.device(\"default.mixed\", wires=n_qubits)  # supports noise\n",
    "\n",
    "def feature_encoding(x):\n",
    "    for i in range(n_qubits):\n",
    "        qml.RX(x[i], wires=i)\n",
    "\n",
    "def shallow_HEA(weights):\n",
    "    for i in range(n_qubits):\n",
    "        qml.RX(weights[i, 0], wires=i)\n",
    "        qml.RZ(weights[i, 1], wires=i)\n",
    "    qml.CNOT(wires=[0, 1])\n",
    "\n",
    "def apply_noise(noise_type, prob):\n",
    "    \"\"\"Apply chosen noise model to all qubits.\"\"\"\n",
    "    for i in range(n_qubits):\n",
    "        if noise_type == \"Depolarizing\":\n",
    "            qml.DepolarizingChannel(prob, wires=i)\n",
    "        elif noise_type == \"AmplitudeDamping\":\n",
    "            qml.AmplitudeDamping(prob, wires=i)\n",
    "        elif noise_type == \"PhaseDamping\":\n",
    "            qml.PhaseDamping(prob, wires=i)\n",
    "        elif noise_type == \"BitFlip\":\n",
    "            qml.BitFlip(prob, wires=i)\n",
    "        elif noise_type == \"PhaseFlip\":\n",
    "            qml.PhaseFlip(prob, wires=i)\n",
    "\n",
    "@qml.qnode(dev, interface=\"torch\")\n",
    "def circuit(weights, x):\n",
    "    feature_encoding(x)\n",
    "    apply_noise(noise_type, noise_prob)   # Noise after encoding\n",
    "    shallow_HEA(weights)\n",
    "    apply_noise(noise_type, noise_prob)   # Noise after ansatz\n",
    "    return qml.expval(qml.PauliZ(0))\n"
   ]
  },
  {
   "cell_type": "code",
   "execution_count": 6,
   "id": "0b879438",
   "metadata": {},
   "outputs": [],
   "source": [
    "class QuantumClassifier(torch.nn.Module):\n",
    "    def __init__(self):\n",
    "        super().__init__()\n",
    "        self.weights = torch.nn.Parameter(0.01 * torch.randn(n_qubits, 2, dtype=torch.float64))\n",
    "\n",
    "    def forward(self, x):\n",
    "        outputs = []\n",
    "        for xi in x:\n",
    "            outputs.append(circuit(self.weights, xi))\n",
    "        return torch.stack(outputs).reshape(-1, 1) * 0.5 + 0.5\n"
   ]
  },
  {
   "cell_type": "code",
   "execution_count": 7,
   "id": "a4a4bb2f",
   "metadata": {},
   "outputs": [
    {
     "name": "stdout",
     "output_type": "stream",
     "text": [
      "Epoch  5 | Loss: 1.0598 | Train Acc: 52.50%\n",
      "Epoch 10 | Loss: 0.6722 | Train Acc: 57.50%\n",
      "Epoch 15 | Loss: 0.5123 | Train Acc: 67.50%\n",
      "Epoch 20 | Loss: 0.4571 | Train Acc: 82.50%\n",
      "Epoch 25 | Loss: 0.4476 | Train Acc: 85.00%\n",
      "Epoch 30 | Loss: 0.4524 | Train Acc: 86.25%\n"
     ]
    }
   ],
   "source": [
    "model = QuantumClassifier()\n",
    "optimizer = torch.optim.Adam(model.parameters(), lr=0.1)\n",
    "loss_fn = torch.nn.BCELoss()\n",
    "\n",
    "epochs = 30\n",
    "for epoch in range(epochs):\n",
    "    optimizer.zero_grad()\n",
    "    y_pred = model(X_train)\n",
    "    loss = loss_fn(y_pred, y_train.reshape(-1, 1))\n",
    "    loss.backward()\n",
    "    optimizer.step()\n",
    "\n",
    "    if (epoch + 1) % 5 == 0:\n",
    "        acc = ((y_pred.detach().numpy() > 0.5) == y_train.numpy().reshape(-1, 1)).mean()\n",
    "        print(f\"Epoch {epoch+1:2d} | Loss: {loss.item():.4f} | Train Acc: {acc*100:.2f}%\")\n"
   ]
  },
  {
   "cell_type": "code",
   "execution_count": 10,
   "id": "a6a61c9f",
   "metadata": {},
   "outputs": [
    {
     "name": "stdout",
     "output_type": "stream",
     "text": [
      "Noise: AmplitudeDamping\n",
      "MSE: 0.1526\n",
      "RMSE: 0.3907\n",
      "MAE: 0.3672\n",
      "F1-score: 0.8889\n",
      "Inference time per sample: 0.005239 sec\n",
      "No. of qubits: 2\n"
     ]
    }
   ],
   "source": [
    "with torch.no_grad():\n",
    "    start_time = time.perf_counter()\n",
    "\n",
    "    preds = model(X_test).detach().numpy()  # Detach once\n",
    "    preds_binary = (preds > 0.5).astype(int)\n",
    "\n",
    "    end_time = time.perf_counter()\n",
    "    inference_time_per_sample = (end_time - start_time) / len(X_test)\n",
    "\n",
    "    y_true_np = y_test.detach().numpy().flatten()\n",
    "\n",
    "    mse = mean_squared_error(y_true_np, preds.flatten())\n",
    "    rmse = np.sqrt(mse)\n",
    "    mae = mean_absolute_error(y_true_np, preds.flatten())\n",
    "\n",
    "    # F1 score\n",
    "    y_true_int = y_test.detach().numpy().astype(int)\n",
    "    f1 = f1_score(y_true_int, preds_binary)\n",
    "\n",
    "print(f\"Noise: {noise_type}\")\n",
    "print(f\"MSE: {mse:.4f}\")\n",
    "print(f\"RMSE: {rmse:.4f}\")\n",
    "print(f\"MAE: {mae:.4f}\")\n",
    "print(f\"F1-score: {f1:.4f}\")\n",
    "print(f\"Inference time per sample: {inference_time_per_sample:.6f} sec\")\n",
    "print(f\"No. of qubits: {n_qubits}\")\n"
   ]
  },
  {
   "cell_type": "code",
   "execution_count": null,
   "id": "cfdb4c70",
   "metadata": {},
   "outputs": [],
   "source": []
  }
 ],
 "metadata": {
  "kernelspec": {
   "display_name": "myenv",
   "language": "python",
   "name": "python3"
  },
  "language_info": {
   "codemirror_mode": {
    "name": "ipython",
    "version": 3
   },
   "file_extension": ".py",
   "mimetype": "text/x-python",
   "name": "python",
   "nbconvert_exporter": "python",
   "pygments_lexer": "ipython3",
   "version": "3.10.18"
  }
 },
 "nbformat": 4,
 "nbformat_minor": 5
}
