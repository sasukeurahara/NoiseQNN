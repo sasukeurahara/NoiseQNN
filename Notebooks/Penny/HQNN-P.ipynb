{
 "cells": [
  {
   "cell_type": "code",
   "execution_count": 1,
   "id": "71fe420e",
   "metadata": {},
   "outputs": [],
   "source": [
    "import pennylane as qml\n",
    "from pennylane import numpy as np\n",
    "import torch\n",
    "import torch.nn as nn\n",
    "import torch.optim as optim\n",
    "from sklearn import datasets\n",
    "from sklearn.model_selection import train_test_split\n",
    "from sklearn.preprocessing import StandardScaler\n",
    "from sklearn.metrics import mean_squared_error, mean_absolute_error, r2_score\n",
    "import time\n",
    "import torch\n",
    "torch.set_default_dtype(torch.float64)\n"
   ]
  },
  {
   "cell_type": "code",
   "execution_count": 2,
   "id": "bc718585",
   "metadata": {},
   "outputs": [],
   "source": [
    "n_qubits = 2\n",
    "noise_type = \"depolarizing\"  # Change to \"bitflip\", \"phaseflip\", \"amplitude_damping\"\n",
    "noise_strength = 0.05   "
   ]
  },
  {
   "cell_type": "code",
   "execution_count": 3,
   "id": "d8e42b7e",
   "metadata": {},
   "outputs": [],
   "source": [
    "iris = datasets.load_iris()\n",
    "X = iris.data[:, :n_qubits]  # only first n_qubits features\n",
    "y = iris.target\n",
    "\n",
    "# Normalize\n",
    "scaler = StandardScaler()\n",
    "X = scaler.fit_transform(X)\n",
    "\n",
    "# Convert to tensor\n",
    "X_train, X_test, y_train, y_test = train_test_split(X, y, test_size=0.2, random_state=42)\n",
    "X_train = torch.tensor(X_train, dtype=torch.float64)\n",
    "y_train = torch.tensor(y_train, dtype=torch.float64)\n",
    "X_test = torch.tensor(X_test, dtype=torch.float64)\n",
    "y_test = torch.tensor(y_test, dtype=torch.float64)"
   ]
  },
  {
   "cell_type": "code",
   "execution_count": 4,
   "id": "64328608",
   "metadata": {},
   "outputs": [],
   "source": [
    "# -----------------\n",
    "# DEVICE WITH NOISE\n",
    "# -----------------\n",
    "def get_noise_model(dev):\n",
    "    \"\"\"Attach noise gates according to noise_type\"\"\"\n",
    "    if noise_type == \"depolarizing\":\n",
    "        def noise():\n",
    "            for w in range(n_qubits):\n",
    "                qml.DepolarizingChannel(noise_strength, wires=w)\n",
    "    elif noise_type == \"bitflip\":\n",
    "        def noise():\n",
    "            for w in range(n_qubits):\n",
    "                qml.BitFlip(noise_strength, wires=w)\n",
    "    elif noise_type == \"phaseflip\":\n",
    "        def noise():\n",
    "            for w in range(n_qubits):\n",
    "                qml.PhaseFlip(noise_strength, wires=w)\n",
    "    elif noise_type == \"amplitude_damping\":\n",
    "        def noise():\n",
    "            for w in range(n_qubits):\n",
    "                qml.AmplitudeDamping(noise_strength, wires=w)\n",
    "    else:\n",
    "        def noise():\n",
    "            pass\n",
    "    return noise\n",
    "\n",
    "dev = qml.device(\"default.mixed\", wires=n_qubits)\n",
    "noise_layer = get_noise_model(dev)\n",
    "\n",
    "# -----------------\n",
    "# QNODE\n",
    "# -----------------\n",
    "@qml.qnode(dev, interface=\"torch\", diff_method=\"backprop\")\n",
    "def circuit(inputs, weights):\n",
    "    qml.AngleEmbedding(inputs, wires=range(n_qubits))\n",
    "    noise_layer()\n",
    "    qml.StronglyEntanglingLayers(weights, wires=range(n_qubits))\n",
    "    noise_layer()\n",
    "    return [qml.expval(qml.PauliZ(i)) for i in range(n_qubits)]\n",
    "\n",
    "# -----------------\n",
    "# TORCH LAYER\n",
    "# -----------------\n",
    "weight_shapes = {\"weights\": (1, n_qubits, 3)}\n",
    "qlayer = qml.qnn.TorchLayer(circuit, weight_shapes)\n",
    "\n",
    "class HQNN(nn.Module):\n",
    "    def __init__(self):\n",
    "        super().__init__()\n",
    "        self.q = qlayer\n",
    "        self.fc = nn.Linear(n_qubits, 1)\n",
    "\n",
    "    def forward(self, x):\n",
    "        return self.fc(self.q(x))\n",
    "\n",
    "model = HQNN()\n",
    "model = model.to(dtype=torch.float64)"
   ]
  },
  {
   "cell_type": "code",
   "execution_count": 8,
   "id": "0eb7b348",
   "metadata": {},
   "outputs": [
    {
     "name": "stdout",
     "output_type": "stream",
     "text": [
      "Epoch 5/30, Loss: 0.452506\n",
      "Epoch 10/30, Loss: 0.399437\n",
      "Epoch 15/30, Loss: 0.364959\n",
      "Epoch 20/30, Loss: 0.345536\n",
      "Epoch 25/30, Loss: 0.336096\n",
      "Epoch 30/30, Loss: 0.331728\n"
     ]
    }
   ],
   "source": [
    "# -----------------\n",
    "# TRAINING\n",
    "# -----------------\n",
    "optimizer = optim.Adam(model.parameters(), lr=0.01)\n",
    "loss_fn = nn.MSELoss()\n",
    "\n",
    "epochs = 30\n",
    "for epoch in range(epochs):\n",
    "    optimizer.zero_grad()\n",
    "    preds = model(X_train)\n",
    "    loss = loss_fn(preds.squeeze(), y_train)\n",
    "    loss.backward()\n",
    "    optimizer.step()\n",
    "    if (epoch+1) % 5 == 0:\n",
    "        print(f\"Epoch {epoch+1}/{epochs}, Loss: {loss.item():.6f}\")\n",
    "\n",
    "# -----------------\n",
    "# EVALUATION\n",
    "# -----------------\n",
    "with torch.no_grad():\n",
    "    start_time = time.time()\n",
    "    preds = model(X_test).detach().cpu().numpy()\n",
    "    end_time = time.time()\n",
    "\n",
    "mse = mean_squared_error(y_test, preds)\n",
    "rmse = np.sqrt(mse)\n",
    "mae = mean_absolute_error(y_test, preds)\n",
    "r2 = r2_score(y_test, preds)\n"
   ]
  },
  {
   "cell_type": "code",
   "execution_count": 9,
   "id": "5f9c1d45",
   "metadata": {},
   "outputs": [
    {
     "name": "stdout",
     "output_type": "stream",
     "text": [
      "\n",
      "--- Evaluation Metrics ---\n",
      "Noise type       : depolarizing\n",
      "Noise strength   : 0.05\n",
      "Number of qubits : 2\n",
      "MSE              : 0.277537\n",
      "RMSE             : 0.526818\n",
      "MAE              : 0.404638\n",
      "R²               : 0.602888\n",
      "epochs           : 30\n",
      "Inference time   : 0.006981 seconds\n"
     ]
    }
   ],
   "source": [
    "\n",
    "print(\"\\n--- Evaluation Metrics ---\")\n",
    "print(f\"Noise type       : {noise_type}\")\n",
    "print(f\"Noise strength   : {noise_strength}\")\n",
    "print(f\"Number of qubits : {n_qubits}\")\n",
    "print(f\"MSE              : {mse:.6f}\")\n",
    "print(f\"RMSE             : {rmse:.6f}\")\n",
    "print(f\"MAE              : {mae:.6f}\")\n",
    "print(f\"R²               : {r2:.6f}\")\n",
    "print(f\"epochs           : {epochs}\")\n",
    "print(f\"Inference time   : {(end_time - start_time):.6f} seconds\")"
   ]
  },
  {
   "cell_type": "code",
   "execution_count": null,
   "id": "e66c368d",
   "metadata": {},
   "outputs": [],
   "source": []
  }
 ],
 "metadata": {
  "kernelspec": {
   "display_name": "myenv",
   "language": "python",
   "name": "python3"
  },
  "language_info": {
   "codemirror_mode": {
    "name": "ipython",
    "version": 3
   },
   "file_extension": ".py",
   "mimetype": "text/x-python",
   "name": "python",
   "nbconvert_exporter": "python",
   "pygments_lexer": "ipython3",
   "version": "3.10.18"
  }
 },
 "nbformat": 4,
 "nbformat_minor": 5
}
