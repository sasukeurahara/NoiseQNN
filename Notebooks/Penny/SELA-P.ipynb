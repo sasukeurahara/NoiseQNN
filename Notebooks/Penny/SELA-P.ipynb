{
 "cells": [
  {
   "cell_type": "code",
   "execution_count": 2,
   "id": "60385054",
   "metadata": {},
   "outputs": [],
   "source": [
    "import pennylane as qml\n",
    "from pennylane import numpy as np\n",
    "import torch\n",
    "from torch import nn\n",
    "from sklearn.datasets import load_iris\n",
    "from sklearn.model_selection import train_test_split\n",
    "from sklearn.preprocessing import StandardScaler\n",
    "from sklearn.metrics import mean_squared_error, mean_absolute_error, r2_score\n",
    "import time\n",
    "from sklearn.metrics import f1_score"
   ]
  },
  {
   "cell_type": "code",
   "execution_count": 3,
   "id": "5ff7805d",
   "metadata": {},
   "outputs": [],
   "source": [
    "n_qubits = 2\n",
    "n_layers = 2\n",
    "noise_type = \"amplitude_damping\"   # options: \"bit_flip\",\"phase_flip\",\"amplitude_damping\",\"phase_damping\",\"depolarizing\", or None\n",
    "noise_prob = 0.05\n",
    "epochs = 30\n",
    "lr = 0.05"
   ]
  },
  {
   "cell_type": "code",
   "execution_count": 4,
   "id": "361fe7eb",
   "metadata": {},
   "outputs": [],
   "source": [
    "# Load binary iris (first two classes)\n",
    "iris = load_iris()\n",
    "mask = iris.target < 2\n",
    "X = iris.data[mask]\n",
    "y = iris.target[mask].astype(float)  # {0,1}\n",
    "\n",
    "# Use first n_qubits features if available, otherwise tile features to match n_qubits\n",
    "X_raw = X\n",
    "if X_raw.shape[1] >= n_qubits:\n",
    "    X = X_raw[:, :n_qubits]\n",
    "else:\n",
    "    reps = int(np.ceil(n_qubits / X_raw.shape[1]))\n",
    "    X = np.tile(X_raw, reps)[:, :n_qubits]\n",
    "\n",
    "scaler = StandardScaler()\n",
    "X = scaler.fit_transform(X)\n",
    "\n",
    "X_train, X_test, y_train, y_test = train_test_split(X, y, test_size=0.2, random_state=42)\n",
    "\n",
    "# Device\n",
    "dev = qml.device(\"default.mixed\", wires=n_qubits)"
   ]
  },
  {
   "cell_type": "code",
   "execution_count": 5,
   "id": "17dbead3",
   "metadata": {},
   "outputs": [],
   "source": [
    "def add_noise_all(prob):\n",
    "    \"\"\"Apply single-qubit noise channel to each wire (fixed).\"\"\"\n",
    "    if noise_type is None or noise_type.lower() == \"none\":\n",
    "        return\n",
    "    for w in range(n_qubits):\n",
    "        t = noise_type.lower()\n",
    "        if t == \"bit_flip\":\n",
    "            qml.BitFlip(prob, wires=w)\n",
    "        elif t == \"phase_flip\":\n",
    "            qml.PhaseFlip(prob, wires=w)\n",
    "        elif t == \"amplitude_damping\":\n",
    "            qml.AmplitudeDamping(prob, wires=w)\n",
    "        elif t == \"phase_damping\":\n",
    "            qml.PhaseDamping(prob, wires=w)\n",
    "        elif t == \"depolarizing\":\n",
    "            qml.DepolarizingChannel(prob, wires=w)\n",
    "        else:\n",
    "            raise ValueError(f\"Unknown noise type: {noise_type}\")\n",
    "\n",
    "# helper to safe-embed input (tile/pad to n_qubits)\n",
    "def angle_embed_inputs(x):\n",
    "    vec = np.array(x)\n",
    "    if vec.size < n_qubits:\n",
    "        reps = int(np.ceil(n_qubits / vec.size))\n",
    "        vec = np.tile(vec, reps)[:n_qubits]\n",
    "    qml.AngleEmbedding(vec, wires=range(n_qubits))\n",
    "\n",
    "@qml.qnode(dev, interface=\"autograd\")\n",
    "def circuit(inputs, weights):\n",
    "    # inputs: length n_qubits (after padding)\n",
    "    angle_embed_inputs(inputs)\n",
    "    # Strongly entangling layers expect shape (n_layers, n_wires, 3)\n",
    "    qml.templates.StronglyEntanglingLayers(weights, wires=range(n_qubits))\n",
    "    add_noise_all(noise_prob)   # noise AFTER ansatz\n",
    "    return qml.expval(qml.PauliZ(0))\n",
    "\n",
    "# cost function (MSE between (exp+1)/2 and labels in {0,1})\n",
    "def cost(weights, Xbatch, Ybatch):\n",
    "    preds = []\n",
    "    for x in Xbatch:\n",
    "        ev = circuit(x, weights)        # in [-1,1]\n",
    "        preds.append((ev + 1.0) / 2.0)  # map to [0,1]\n",
    "    preds = np.array(preds)\n",
    "    return np.mean((preds - Ybatch) ** 2)\n",
    "\n",
    "# initialize weights with correct shape (n_layers, n_qubits, 3)\n",
    "weights = np.random.uniform(0, 2 * np.pi, size=(n_layers, n_qubits, 3), requires_grad=True)\n",
    "\n",
    "opt = qml.GradientDescentOptimizer(stepsize=lr)\n"
   ]
  },
  {
   "cell_type": "code",
   "execution_count": 6,
   "id": "9036b403",
   "metadata": {},
   "outputs": [
    {
     "name": "stdout",
     "output_type": "stream",
     "text": [
      "Epoch   5 | Train Loss: 0.380990\n",
      "Epoch  10 | Train Loss: 0.356965\n",
      "Epoch  15 | Train Loss: 0.333840\n",
      "Epoch  20 | Train Loss: 0.311900\n",
      "Epoch  25 | Train Loss: 0.291392\n",
      "Epoch  30 | Train Loss: 0.272494\n"
     ]
    }
   ],
   "source": [
    "# Training loop\n",
    "for epoch in range(epochs):\n",
    "    weights, train_loss = opt.step_and_cost(lambda w: cost(w, X_train, y_train), weights)\n",
    "    if (epoch + 1) % 5 == 0:\n",
    "        print(f\"Epoch {epoch+1:3d} | Train Loss: {train_loss:.6f}\")\n"
   ]
  },
  {
   "cell_type": "code",
   "execution_count": 7,
   "id": "f7fb1cb4",
   "metadata": {},
   "outputs": [
    {
     "name": "stdout",
     "output_type": "stream",
     "text": [
      "\n",
      "=== SEA Evaluation ===\n",
      "Noise type: amplitude_damping\n",
      "Noise prob: 0.05\n",
      "# qubits: 2\n",
      "MSE:  0.303380\n",
      "RMSE: 0.550799\n",
      "MAE:  0.532466\n",
      "F1-score:  0.454545\n",
      "Inference time per sample: 4.1167 ms\n"
     ]
    }
   ],
   "source": [
    "# Evaluation\n",
    "t0 = time.perf_counter()\n",
    "preds_test = [ (circuit(x, weights) + 1.0) / 2.0 for x in X_test ]\n",
    "t1 = time.perf_counter()\n",
    "preds_test = np.array(preds_test).flatten()\n",
    "\n",
    "# Threshold for binary classification\n",
    "preds_binary = (preds_test > 0.5).astype(int)\n",
    "y_true_int = np.array(y_test).astype(int)\n",
    "\n",
    "# Metrics\n",
    "mse = mean_squared_error(y_true_int, preds_test)\n",
    "rmse = np.sqrt(mse)\n",
    "mae = mean_absolute_error(y_true_int, preds_test)\n",
    "f1 = f1_score(y_true_int, preds_binary)\n",
    "inference_time_per_sample = (t1 - t0) / len(X_test)\n",
    "\n",
    "print(\"\\n=== SEA Evaluation ===\")\n",
    "print(f\"Noise type: {noise_type}\")\n",
    "print(f\"Noise prob: {noise_prob}\")\n",
    "print(f\"# qubits: {n_qubits}\")\n",
    "print(f\"MSE:  {mse:.6f}\")\n",
    "print(f\"RMSE: {rmse:.6f}\")\n",
    "print(f\"MAE:  {mae:.6f}\")\n",
    "print(f\"F1-score:  {f1:.6f}\")\n",
    "print(f\"Inference time per sample: {inference_time_per_sample*1000:.4f} ms\")"
   ]
  },
  {
   "cell_type": "code",
   "execution_count": null,
   "id": "00136203",
   "metadata": {},
   "outputs": [],
   "source": []
  }
 ],
 "metadata": {
  "kernelspec": {
   "display_name": "myenv",
   "language": "python",
   "name": "python3"
  },
  "language_info": {
   "codemirror_mode": {
    "name": "ipython",
    "version": 3
   },
   "file_extension": ".py",
   "mimetype": "text/x-python",
   "name": "python",
   "nbconvert_exporter": "python",
   "pygments_lexer": "ipython3",
   "version": "3.10.18"
  }
 },
 "nbformat": 4,
 "nbformat_minor": 5
}
